{
 "cells": [
  {
   "cell_type": "code",
   "execution_count": null,
   "metadata": {},
   "outputs": [],
   "source": []
  },
  {
   "cell_type": "raw",
   "metadata": {},
   "source": [
    "import numpy as np\n",
    "import pandas as pd\n",
    "import matplotlib.pyplot as plt\n",
    "import tensorflow as tf\n",
    "import scipy\n",
    "from keras.preprocessing.image import image\n",
    "from keras.utils import to_categorical\n",
    "from  utils_1 import *\n",
    "\n"
   ]
  },
  {
   "cell_type": "code",
   "execution_count": 62,
   "metadata": {},
   "outputs": [
    {
     "data": {
      "text/plain": [
       "\"[u'62', u'66', u'44', u'214', u'171', u'184']\""
      ]
     },
     "execution_count": 62,
     "metadata": {},
     "output_type": "execute_result"
    }
   ],
   "source": [
    "Y_train,Y_dev= Load_Dataset()\n",
    "Y_train[6500,0]"
   ]
  },
  {
   "cell_type": "code",
   "execution_count": 63,
   "metadata": {},
   "outputs": [],
   "source": [
    "for i in range(Y_train.shape[0]):\n",
    "    z = Y_train[i,0]\n",
    "    z = z[1:-1]\n",
    "    z = list(map(lambda x: int((x[2:-1])), z.split(', ')))\n",
    "    Y_train[i,0] = z\n",
    "for i in range(Y_dev.shape[0]):\n",
    "    z = Y_dev[i,0]\n",
    "    z = z[1:-1]\n",
    "    z = list(map(lambda x: int((x[2:-1])), z.split(', ')))\n",
    "    Y_dev[i,0] = z\n"
   ]
  },
  {
   "cell_type": "code",
   "execution_count": 89,
   "metadata": {},
   "outputs": [
    {
     "data": {
      "text/plain": [
       "15000"
      ]
     },
     "execution_count": 89,
     "metadata": {},
     "output_type": "execute_result"
    }
   ],
   "source": [
    "m = Y_train.shape[0]\n",
    "m"
   ]
  },
  {
   "cell_type": "code",
   "execution_count": 97,
   "metadata": {},
   "outputs": [],
   "source": [
    "max_class = max(max(Y_train[i,0] for i in range(m) ))\n",
    "max_class+=1"
   ]
  },
  {
   "cell_type": "code",
   "execution_count": 105,
   "metadata": {},
   "outputs": [
    {
     "name": "stdout",
     "output_type": "stream",
     "text": [
      "11\n",
      "19\n",
      "22\n",
      "36\n",
      "101\n",
      "127\n",
      "154\n",
      "182\n",
      "201\n",
      "218\n",
      "266\n",
      "272\n",
      "551\n",
      "571\n",
      "638\n",
      "680\n",
      "781\n",
      "922\n",
      "1050\n",
      "1054\n",
      "1074\n",
      "1128\n",
      "1130\n",
      "1196\n",
      "1199\n",
      "1341\n",
      "1472\n",
      "1496\n",
      "1514\n",
      "1702\n",
      "1748\n",
      "1897\n",
      "2112\n",
      "2136\n",
      "2207\n",
      "2305\n",
      "2314\n",
      "2329\n",
      "2397\n",
      "2487\n",
      "2653\n",
      "2673\n",
      "2737\n",
      "2777\n",
      "2793\n",
      "2908\n",
      "2992\n",
      "3123\n",
      "3272\n",
      "3311\n",
      "3383\n",
      "3415\n",
      "3544\n",
      "3551\n",
      "3796\n",
      "3849\n",
      "3886\n",
      "3927\n",
      "3993\n",
      "4082\n",
      "4232\n",
      "4300\n",
      "4356\n",
      "4409\n",
      "4469\n",
      "4628\n",
      "4702\n",
      "4828\n",
      "4872\n",
      "4957\n",
      "4959\n",
      "5044\n",
      "5089\n",
      "5163\n",
      "5180\n",
      "5206\n",
      "5207\n",
      "5256\n",
      "5282\n",
      "5399\n",
      "5491\n",
      "5501\n",
      "5576\n",
      "5586\n",
      "5621\n",
      "5698\n",
      "5750\n",
      "5924\n",
      "5957\n",
      "6173\n",
      "6212\n",
      "6335\n",
      "6357\n",
      "6410\n",
      "6525\n",
      "6701\n",
      "6808\n",
      "6896\n",
      "7037\n",
      "7118\n",
      "7305\n",
      "7372\n",
      "7479\n",
      "7513\n",
      "7517\n",
      "7585\n",
      "7599\n",
      "7606\n",
      "7817\n",
      "7946\n",
      "8136\n",
      "8186\n",
      "8410\n",
      "8422\n",
      "8493\n",
      "8521\n",
      "8563\n",
      "8600\n",
      "8613\n",
      "8616\n",
      "8919\n",
      "8960\n",
      "9073\n",
      "9078\n",
      "9114\n",
      "9140\n",
      "9179\n",
      "9229\n",
      "9232\n",
      "9266\n",
      "9293\n",
      "9337\n",
      "9374\n",
      "9382\n",
      "9583\n",
      "9733\n",
      "9751\n",
      "9796\n",
      "9799\n",
      "9940\n",
      "10073\n",
      "10402\n",
      "10585\n",
      "10602\n",
      "10708\n",
      "10720\n",
      "10736\n",
      "10766\n",
      "10793\n",
      "11040\n",
      "11225\n",
      "11229\n",
      "11254\n",
      "11425\n",
      "11465\n",
      "11529\n",
      "11553\n",
      "11558\n",
      "11581\n",
      "11624\n",
      "11670\n",
      "11725\n",
      "11810\n",
      "12018\n",
      "12238\n",
      "12413\n",
      "12414\n",
      "12494\n",
      "12560\n",
      "12579\n",
      "12658\n",
      "12816\n",
      "12833\n",
      "12911\n",
      "12963\n",
      "13047\n",
      "13074\n",
      "13075\n",
      "13138\n",
      "13160\n",
      "13186\n",
      "13347\n",
      "13431\n",
      "13443\n",
      "13489\n",
      "13554\n",
      "13570\n",
      "13756\n",
      "14103\n",
      "14108\n",
      "14132\n",
      "14155\n",
      "14238\n",
      "14334\n",
      "14363\n",
      "14373\n",
      "14525\n",
      "14587\n",
      "14597\n",
      "14629\n",
      "14669\n",
      "14706\n",
      "14755\n",
      "14830\n",
      "14838\n",
      "14913\n",
      "14978\n"
     ]
    }
   ],
   "source": [
    "for i in range(m):\n",
    "    C = min(Y_train[i,0])\n",
    "    if C == 2:\n",
    "        print(Y_train[i,1])\n",
    "        \n",
    "               "
   ]
  },
  {
   "cell_type": "code",
   "execution_count": 93,
   "metadata": {},
   "outputs": [],
   "source": [
    "Y_train_one_hot = np.zeros((max_class,m))\n",
    "Y_train_one_hot.shape\n",
    "for i in range(m):\n",
    "    l = Y_train[i,0]\n",
    "    for j in l:\n",
    "        Y_train_one_hot[j-1,i] = 1"
   ]
  },
  {
   "cell_type": "code",
   "execution_count": 102,
   "metadata": {},
   "outputs": [
    {
     "data": {
      "text/plain": [
       "(228, 15000)"
      ]
     },
     "execution_count": 102,
     "metadata": {},
     "output_type": "execute_result"
    }
   ],
   "source": [
    "Y_train_one_hot.shape"
   ]
  },
  {
   "cell_type": "raw",
   "metadata": {},
   "source": []
  }
 ],
 "metadata": {
  "kernelspec": {
   "display_name": "Python 3",
   "language": "python",
   "name": "python3"
  },
  "language_info": {
   "codemirror_mode": {
    "name": "ipython",
    "version": 3
   },
   "file_extension": ".py",
   "mimetype": "text/x-python",
   "name": "python",
   "nbconvert_exporter": "python",
   "pygments_lexer": "ipython3",
   "version": "3.6.7"
  }
 },
 "nbformat": 4,
 "nbformat_minor": 2
}
